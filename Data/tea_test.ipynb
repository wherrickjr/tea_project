{
 "cells": [
  {
   "cell_type": "code",
   "execution_count": 41,
   "id": "b698d3de",
   "metadata": {},
   "outputs": [],
   "source": [
    "import pandas as pd\n",
    "import seaborn as sns\n",
    "import matplotlib.pyplot as plt\n",
    "import numpy as np"
   ]
  },
  {
   "cell_type": "code",
   "execution_count": 2,
   "id": "191280da",
   "metadata": {},
   "outputs": [
    {
     "name": "stderr",
     "output_type": "stream",
     "text": [
      "/var/folders/9m/3m9g9yzs77j2m_79z47fjdr00000gq/T/ipykernel_59590/2206552592.py:1: DtypeWarning: Columns (0) have mixed types. Specify dtype option on import or set low_memory=False.\n",
      "  demo = pd.read_csv('DEMO.csv')\n"
     ]
    }
   ],
   "source": [
    "demo = pd.read_csv('DEMO.csv')\n",
    "mclass = pd.read_csv('MCLASS.csv')\n",
    "txkea = pd.read_csv('TXKEA.csv')"
   ]
  },
  {
   "cell_type": "code",
   "execution_count": 4,
   "id": "e5000f99",
   "metadata": {},
   "outputs": [
    {
     "data": {
      "text/plain": [
       "student_id     0\n",
       "district_id    0\n",
       "ethnicity      0\n",
       "eco            0\n",
       "el             0\n",
       "spec_ed        0\n",
       "dtype: int64"
      ]
     },
     "execution_count": 4,
     "metadata": {},
     "output_type": "execute_result"
    }
   ],
   "source": [
    "demo.isna().sum()"
   ]
  },
  {
   "cell_type": "code",
   "execution_count": 6,
   "id": "b2324855",
   "metadata": {},
   "outputs": [
    {
     "data": {
      "text/plain": [
       "student_id               0\n",
       "district_id           6240\n",
       "school_id             6592\n",
       "assessment_edition       0\n",
       "composite_level          0\n",
       "composite_score       7144\n",
       "dtype: int64"
      ]
     },
     "execution_count": 6,
     "metadata": {},
     "output_type": "execute_result"
    }
   ],
   "source": [
    "mclass.isna().sum()\n",
    "#check for nulls\n",
    "#keep all rows because score is not very relevant given the information from the senario"
   ]
  },
  {
   "cell_type": "code",
   "execution_count": 8,
   "id": "c6f2ada7",
   "metadata": {},
   "outputs": [
    {
     "data": {
      "text/plain": [
       "district_id                0\n",
       "student_id                 0\n",
       "language                   0\n",
       "lit_screening_benchmark    0\n",
       "lit_screening_score        0\n",
       "date                       0\n",
       "dtype: int64"
      ]
     },
     "execution_count": 8,
     "metadata": {},
     "output_type": "execute_result"
    }
   ],
   "source": [
    "txkea.isna().sum()"
   ]
  },
  {
   "cell_type": "code",
   "execution_count": 9,
   "id": "e6173a1a",
   "metadata": {},
   "outputs": [],
   "source": [
    "from pandasql import sqldf"
   ]
  },
  {
   "cell_type": "code",
   "execution_count": 10,
   "id": "868754eb",
   "metadata": {},
   "outputs": [],
   "source": [
    "query = 'select d.*, m.composite_level as mclass_lvl, m.composite_score as mclass_score, \\\n",
    "t.lit_screening_benchmark as txkea_level, t.lit_screening_score as txkea_score \\\n",
    "from demo as d \\\n",
    "left join mclass as m on d.student_id = m.student_id \\\n",
    "left join txkea as t on d.student_id = t.student_id \\\n",
    "where m.assessment_edition = \\'DIBELS 8th Edition\\' \\\n",
    "or t.language = \\'English\\';'\n",
    "\n",
    "# this query makes a df of all students who took either the mclass or txkea tests in English, their scores,\n",
    "# and some of their demographics"
   ]
  },
  {
   "cell_type": "code",
   "execution_count": 11,
   "id": "6ffef29b",
   "metadata": {},
   "outputs": [],
   "source": [
    "result = sqldf(query, locals())"
   ]
  },
  {
   "cell_type": "code",
   "execution_count": 12,
   "id": "ebdfb280",
   "metadata": {},
   "outputs": [
    {
     "data": {
      "text/html": [
       "<div>\n",
       "<style scoped>\n",
       "    .dataframe tbody tr th:only-of-type {\n",
       "        vertical-align: middle;\n",
       "    }\n",
       "\n",
       "    .dataframe tbody tr th {\n",
       "        vertical-align: top;\n",
       "    }\n",
       "\n",
       "    .dataframe thead th {\n",
       "        text-align: right;\n",
       "    }\n",
       "</style>\n",
       "<table border=\"1\" class=\"dataframe\">\n",
       "  <thead>\n",
       "    <tr style=\"text-align: right;\">\n",
       "      <th></th>\n",
       "      <th>student_id</th>\n",
       "      <th>district_id</th>\n",
       "      <th>ethnicity</th>\n",
       "      <th>eco</th>\n",
       "      <th>el</th>\n",
       "      <th>spec_ed</th>\n",
       "      <th>mclass_lvl</th>\n",
       "      <th>mclass_score</th>\n",
       "      <th>txkea_level</th>\n",
       "      <th>txkea_score</th>\n",
       "    </tr>\n",
       "  </thead>\n",
       "  <tbody>\n",
       "    <tr>\n",
       "      <th>0</th>\n",
       "      <td>885938600</td>\n",
       "      <td>53405</td>\n",
       "      <td>White</td>\n",
       "      <td>YES</td>\n",
       "      <td>NO</td>\n",
       "      <td>NO</td>\n",
       "      <td>None</td>\n",
       "      <td>NaN</td>\n",
       "      <td>On-Track</td>\n",
       "      <td>37.0</td>\n",
       "    </tr>\n",
       "    <tr>\n",
       "      <th>1</th>\n",
       "      <td>871944576</td>\n",
       "      <td>798403</td>\n",
       "      <td>Black or African American</td>\n",
       "      <td>YES</td>\n",
       "      <td>NO</td>\n",
       "      <td>NO</td>\n",
       "      <td>None</td>\n",
       "      <td>NaN</td>\n",
       "      <td>On-Track</td>\n",
       "      <td>21.0</td>\n",
       "    </tr>\n",
       "    <tr>\n",
       "      <th>2</th>\n",
       "      <td>818725252</td>\n",
       "      <td>53405</td>\n",
       "      <td>White</td>\n",
       "      <td>NO</td>\n",
       "      <td>NO</td>\n",
       "      <td>NO</td>\n",
       "      <td>None</td>\n",
       "      <td>NaN</td>\n",
       "      <td>On-Track</td>\n",
       "      <td>42.0</td>\n",
       "    </tr>\n",
       "    <tr>\n",
       "      <th>3</th>\n",
       "      <td>702015143</td>\n",
       "      <td>800409</td>\n",
       "      <td>White</td>\n",
       "      <td>YES</td>\n",
       "      <td>NO</td>\n",
       "      <td>YES</td>\n",
       "      <td>None</td>\n",
       "      <td>NaN</td>\n",
       "      <td>On-Track</td>\n",
       "      <td>19.0</td>\n",
       "    </tr>\n",
       "    <tr>\n",
       "      <th>4</th>\n",
       "      <td>717968813</td>\n",
       "      <td>48403</td>\n",
       "      <td>Two or more races</td>\n",
       "      <td>YES</td>\n",
       "      <td>NO</td>\n",
       "      <td>NO</td>\n",
       "      <td>None</td>\n",
       "      <td>NaN</td>\n",
       "      <td>On-Track</td>\n",
       "      <td>21.0</td>\n",
       "    </tr>\n",
       "    <tr>\n",
       "      <th>...</th>\n",
       "      <td>...</td>\n",
       "      <td>...</td>\n",
       "      <td>...</td>\n",
       "      <td>...</td>\n",
       "      <td>...</td>\n",
       "      <td>...</td>\n",
       "      <td>...</td>\n",
       "      <td>...</td>\n",
       "      <td>...</td>\n",
       "      <td>...</td>\n",
       "    </tr>\n",
       "    <tr>\n",
       "      <th>995</th>\n",
       "      <td>8855137252</td>\n",
       "      <td>808486</td>\n",
       "      <td>Black or African American</td>\n",
       "      <td>YES</td>\n",
       "      <td>NO</td>\n",
       "      <td>NO</td>\n",
       "      <td>None</td>\n",
       "      <td>NaN</td>\n",
       "      <td>On-Track</td>\n",
       "      <td>34.0</td>\n",
       "    </tr>\n",
       "    <tr>\n",
       "      <th>996</th>\n",
       "      <td>8855119496</td>\n",
       "      <td>858403</td>\n",
       "      <td>Hispanic/Latino</td>\n",
       "      <td>YES</td>\n",
       "      <td>NO</td>\n",
       "      <td>NO</td>\n",
       "      <td>None</td>\n",
       "      <td>NaN</td>\n",
       "      <td>On-Track</td>\n",
       "      <td>20.0</td>\n",
       "    </tr>\n",
       "    <tr>\n",
       "      <th>997</th>\n",
       "      <td>8855498655</td>\n",
       "      <td>801405</td>\n",
       "      <td>Hispanic/Latino</td>\n",
       "      <td>NO</td>\n",
       "      <td>NO</td>\n",
       "      <td>NO</td>\n",
       "      <td>Above Benchmark</td>\n",
       "      <td>332.0</td>\n",
       "      <td>None</td>\n",
       "      <td>NaN</td>\n",
       "    </tr>\n",
       "    <tr>\n",
       "      <th>998</th>\n",
       "      <td>8855427253</td>\n",
       "      <td>1407</td>\n",
       "      <td>Hispanic/Latino</td>\n",
       "      <td>YES</td>\n",
       "      <td>NO</td>\n",
       "      <td>YES</td>\n",
       "      <td>Below Benchmark</td>\n",
       "      <td>289.0</td>\n",
       "      <td>None</td>\n",
       "      <td>NaN</td>\n",
       "    </tr>\n",
       "    <tr>\n",
       "      <th>999</th>\n",
       "      <td>8855425985</td>\n",
       "      <td>772408</td>\n",
       "      <td>Hispanic/Latino</td>\n",
       "      <td>YES</td>\n",
       "      <td>NO</td>\n",
       "      <td>YES</td>\n",
       "      <td>None</td>\n",
       "      <td>NaN</td>\n",
       "      <td>On-Track</td>\n",
       "      <td>30.0</td>\n",
       "    </tr>\n",
       "  </tbody>\n",
       "</table>\n",
       "<p>1000 rows × 10 columns</p>\n",
       "</div>"
      ],
      "text/plain": [
       "     student_id  district_id                  ethnicity  eco  el spec_ed  \\\n",
       "0     885938600        53405                      White  YES  NO      NO   \n",
       "1     871944576       798403  Black or African American  YES  NO      NO   \n",
       "2     818725252        53405                      White   NO  NO      NO   \n",
       "3     702015143       800409                      White  YES  NO     YES   \n",
       "4     717968813        48403          Two or more races  YES  NO      NO   \n",
       "..          ...          ...                        ...  ...  ..     ...   \n",
       "995  8855137252       808486  Black or African American  YES  NO      NO   \n",
       "996  8855119496       858403            Hispanic/Latino  YES  NO      NO   \n",
       "997  8855498655       801405            Hispanic/Latino   NO  NO      NO   \n",
       "998  8855427253         1407            Hispanic/Latino  YES  NO     YES   \n",
       "999  8855425985       772408            Hispanic/Latino  YES  NO     YES   \n",
       "\n",
       "          mclass_lvl  mclass_score txkea_level  txkea_score  \n",
       "0               None           NaN    On-Track         37.0  \n",
       "1               None           NaN    On-Track         21.0  \n",
       "2               None           NaN    On-Track         42.0  \n",
       "3               None           NaN    On-Track         19.0  \n",
       "4               None           NaN    On-Track         21.0  \n",
       "..               ...           ...         ...          ...  \n",
       "995             None           NaN    On-Track         34.0  \n",
       "996             None           NaN    On-Track         20.0  \n",
       "997  Above Benchmark         332.0        None          NaN  \n",
       "998  Below Benchmark         289.0        None          NaN  \n",
       "999             None           NaN    On-Track         30.0  \n",
       "\n",
       "[1000 rows x 10 columns]"
      ]
     },
     "execution_count": 12,
     "metadata": {},
     "output_type": "execute_result"
    }
   ],
   "source": [
    "result.head(1000)"
   ]
  },
  {
   "cell_type": "code",
   "execution_count": 13,
   "id": "4ad4e89a",
   "metadata": {},
   "outputs": [
    {
     "name": "stdout",
     "output_type": "stream",
     "text": [
      "<class 'pandas.core.frame.DataFrame'>\n",
      "RangeIndex: 150257 entries, 0 to 150256\n",
      "Data columns (total 10 columns):\n",
      " #   Column        Non-Null Count   Dtype  \n",
      "---  ------        --------------   -----  \n",
      " 0   student_id    150257 non-null  object \n",
      " 1   district_id   150257 non-null  int64  \n",
      " 2   ethnicity     150257 non-null  object \n",
      " 3   eco           150257 non-null  object \n",
      " 4   el            150257 non-null  object \n",
      " 5   spec_ed       150257 non-null  object \n",
      " 6   mclass_lvl    56155 non-null   object \n",
      " 7   mclass_score  56149 non-null   float64\n",
      " 8   txkea_level   94573 non-null   object \n",
      " 9   txkea_score   94573 non-null   float64\n",
      "dtypes: float64(2), int64(1), object(7)\n",
      "memory usage: 11.5+ MB\n"
     ]
    }
   ],
   "source": [
    "result.info()"
   ]
  },
  {
   "cell_type": "markdown",
   "id": "a2409d8a",
   "metadata": {},
   "source": [
    "# Data exploration and Analysis"
   ]
  },
  {
   "cell_type": "markdown",
   "id": "b8a92db1",
   "metadata": {},
   "source": [
    "## How many students took each test?\n"
   ]
  },
  {
   "cell_type": "code",
   "execution_count": 57,
   "id": "fd3836c3",
   "metadata": {},
   "outputs": [
    {
     "data": {
      "text/plain": [
       "56155"
      ]
     },
     "execution_count": 57,
     "metadata": {},
     "output_type": "execute_result"
    }
   ],
   "source": [
    "mclass = result[result['mclass_lvl'].notna()]\n",
    "len(mclass)\n",
    "# number of students that took mclass"
   ]
  },
  {
   "cell_type": "code",
   "execution_count": 59,
   "id": "8d710909",
   "metadata": {},
   "outputs": [
    {
     "data": {
      "text/plain": [
       "94573"
      ]
     },
     "execution_count": 59,
     "metadata": {},
     "output_type": "execute_result"
    }
   ],
   "source": [
    "txkea = result[result['txkea_level'].notna()]\n",
    "len(txkea)\n",
    "#number of students that took txkea"
   ]
  },
  {
   "cell_type": "markdown",
   "id": "d242eea6",
   "metadata": {},
   "source": [
    "## How many students with each specifier took each assessment?"
   ]
  },
  {
   "cell_type": "code",
   "execution_count": 72,
   "id": "723b2224",
   "metadata": {},
   "outputs": [],
   "source": [
    "result.to_csv('clean_data.csv', index=False)\n",
    "eco = result[result['eco'] == 'YES']"
   ]
  },
  {
   "cell_type": "code",
   "execution_count": 73,
   "id": "4570ec2b",
   "metadata": {},
   "outputs": [
    {
     "data": {
      "text/plain": [
       "33331"
      ]
     },
     "execution_count": 73,
     "metadata": {},
     "output_type": "execute_result"
    }
   ],
   "source": [
    "eco_mclass = eco[eco['mclass_lvl'].notna()]\n",
    "len(eco_mclass)\n",
    "#number of  eco dis students that took mclass test"
   ]
  },
  {
   "cell_type": "code",
   "execution_count": 74,
   "id": "5284b5c0",
   "metadata": {},
   "outputs": [
    {
     "data": {
      "text/plain": [
       "56100"
      ]
     },
     "execution_count": 74,
     "metadata": {},
     "output_type": "execute_result"
    }
   ],
   "source": [
    "eco_txkea = eco[eco['txkea_level'].notna()]\n",
    "len(eco_txkea)\n",
    "#number of eco dis students that took txkea test"
   ]
  },
  {
   "cell_type": "code",
   "execution_count": 75,
   "id": "ede45319",
   "metadata": {},
   "outputs": [],
   "source": [
    "el = result[result['el'] == 'YES']\n",
    "el_mclass = el[el['mclass_lvl'].notna()]\n",
    "el_txkea = el[el['txkea_level'].notna()]\n",
    "#finding number of el students that took mclass and txkea\n"
   ]
  },
  {
   "cell_type": "code",
   "execution_count": 84,
   "id": "19131813",
   "metadata": {},
   "outputs": [],
   "source": [
    "sped = result[result['spec_ed'] == 'YES']\n",
    "sped_mclass =sped[sped['mclass_lvl'].notna()]\n",
    "sped_txkea = sped[sped['txkea_level'].notna()]\n",
    "#finding number of sped students that took mclass and txkea\n"
   ]
  },
  {
   "cell_type": "code",
   "execution_count": 85,
   "id": "b5104fca",
   "metadata": {},
   "outputs": [],
   "source": [
    "graph = pd.DataFrame(\n",
    "{ \"mclass\" : [len(sped_mclass), len(el_mclass), len(eco_mclass)],\n",
    " \"txkea\" : [len(sped_txkea), len(el_txkea), len(eco_txkea)]}, index = ['sped', 'el', 'eco'])\n",
    "#creating dataframe to reflect values found"
   ]
  },
  {
   "cell_type": "code",
   "execution_count": 86,
   "id": "8b41bab0",
   "metadata": {},
   "outputs": [
    {
     "data": {
      "text/html": [
       "<div>\n",
       "<style scoped>\n",
       "    .dataframe tbody tr th:only-of-type {\n",
       "        vertical-align: middle;\n",
       "    }\n",
       "\n",
       "    .dataframe tbody tr th {\n",
       "        vertical-align: top;\n",
       "    }\n",
       "\n",
       "    .dataframe thead th {\n",
       "        text-align: right;\n",
       "    }\n",
       "</style>\n",
       "<table border=\"1\" class=\"dataframe\">\n",
       "  <thead>\n",
       "    <tr style=\"text-align: right;\">\n",
       "      <th></th>\n",
       "      <th>mclass</th>\n",
       "      <th>txkea</th>\n",
       "    </tr>\n",
       "  </thead>\n",
       "  <tbody>\n",
       "    <tr>\n",
       "      <th>sped</th>\n",
       "      <td>4084</td>\n",
       "      <td>7220</td>\n",
       "    </tr>\n",
       "    <tr>\n",
       "      <th>el</th>\n",
       "      <td>7785</td>\n",
       "      <td>11879</td>\n",
       "    </tr>\n",
       "    <tr>\n",
       "      <th>eco</th>\n",
       "      <td>33331</td>\n",
       "      <td>56100</td>\n",
       "    </tr>\n",
       "  </tbody>\n",
       "</table>\n",
       "</div>"
      ],
      "text/plain": [
       "      mclass  txkea\n",
       "sped    4084   7220\n",
       "el      7785  11879\n",
       "eco    33331  56100"
      ]
     },
     "execution_count": 86,
     "metadata": {},
     "output_type": "execute_result"
    }
   ],
   "source": [
    "graph"
   ]
  },
  {
   "cell_type": "code",
   "execution_count": 87,
   "id": "196f14a0",
   "metadata": {},
   "outputs": [],
   "source": [
    "graph.mclass = round(graph.mclass/len(mclass), 3) * 100\n",
    "graph.txkea = round(graph.txkea/len(txkea), 3) * 100\n",
    "#turning numbers into proportions"
   ]
  },
  {
   "cell_type": "code",
   "execution_count": 88,
   "id": "b99a508e",
   "metadata": {},
   "outputs": [
    {
     "data": {
      "text/html": [
       "<div>\n",
       "<style scoped>\n",
       "    .dataframe tbody tr th:only-of-type {\n",
       "        vertical-align: middle;\n",
       "    }\n",
       "\n",
       "    .dataframe tbody tr th {\n",
       "        vertical-align: top;\n",
       "    }\n",
       "\n",
       "    .dataframe thead th {\n",
       "        text-align: right;\n",
       "    }\n",
       "</style>\n",
       "<table border=\"1\" class=\"dataframe\">\n",
       "  <thead>\n",
       "    <tr style=\"text-align: right;\">\n",
       "      <th></th>\n",
       "      <th>mclass</th>\n",
       "      <th>txkea</th>\n",
       "    </tr>\n",
       "  </thead>\n",
       "  <tbody>\n",
       "    <tr>\n",
       "      <th>sped</th>\n",
       "      <td>7.3</td>\n",
       "      <td>7.6</td>\n",
       "    </tr>\n",
       "    <tr>\n",
       "      <th>el</th>\n",
       "      <td>13.9</td>\n",
       "      <td>12.6</td>\n",
       "    </tr>\n",
       "    <tr>\n",
       "      <th>eco</th>\n",
       "      <td>59.4</td>\n",
       "      <td>59.3</td>\n",
       "    </tr>\n",
       "  </tbody>\n",
       "</table>\n",
       "</div>"
      ],
      "text/plain": [
       "      mclass  txkea\n",
       "sped     7.3    7.6\n",
       "el      13.9   12.6\n",
       "eco     59.4   59.3"
      ]
     },
     "execution_count": 88,
     "metadata": {},
     "output_type": "execute_result"
    }
   ],
   "source": [
    "graph"
   ]
  },
  {
   "cell_type": "code",
   "execution_count": null,
   "id": "bdc4ae2c",
   "metadata": {},
   "outputs": [],
   "source": []
  },
  {
   "cell_type": "code",
   "execution_count": 99,
   "id": "15152ed9",
   "metadata": {},
   "outputs": [
    {
     "data": {
      "image/png": "[encoded data removed]",
      "text/plain": [
       "<Figure size 640x480 with 1 Axes>"
      ]
     },
     "metadata": {},
     "output_type": "display_data"
    }
   ],
   "source": [
    "species = (\"Spec_ed\", \"English_learner\", \"Eco_dis\")\n",
    "penguin_means = {\n",
    "    'mclass': (7.3, 13.9, 59.4),\n",
    "    'txkea': (7.6, 12.6, 59.3),\n",
    "}\n",
    "\n",
    "x = np.arange(len(species))  # the label locations\n",
    "width = 0.25  # the width of the bars\n",
    "multiplier = 0\n",
    "\n",
    "fig, ax = plt.subplots(layout='constrained')\n",
    "\n",
    "for attribute, measurement in penguin_means.items():\n",
    "    offset = width * multiplier\n",
    "    rects = ax.bar(x + offset, measurement, width, label=attribute)\n",
    "    ax.bar_label(rects, padding=3)\n",
    "    multiplier += 1\n",
    "\n",
    "# Add some text for labels, title and custom x-axis tick labels, etc.\n",
    "ax.set_ylabel('percentage')\n",
    "ax.set_title('Proportion of students with given specifier')\n",
    "ax.set_xticks(x + .125, species)\n",
    "ax.legend()\n",
    "\n",
    "\n",
    "plt.show()"
   ]
  },
  {
   "cell_type": "markdown",
   "id": "2d25b545",
   "metadata": {},
   "source": [
    "It appears that the proportion of special education students, English learning students, and Economically Disadvantaged students are almost equal across both assessments. This may suggest that these specifiers do not have an impact on the performance gap across assessments."
   ]
  },
  {
   "cell_type": "markdown",
   "id": "ee994bf2",
   "metadata": {},
   "source": [
    "## How many students of each demographic took each assessment?"
   ]
  },
  {
   "cell_type": "code",
   "execution_count": 101,
   "id": "9def8129",
   "metadata": {},
   "outputs": [],
   "source": [
    "cnt = 0\n",
    "  \n",
    "# list to hold visited values\n",
    "visited = []\n",
    "  \n",
    "# loop for counting the unique\n",
    "# values in height\n",
    "for i in range(0, len(result['ethnicity'])):\n",
    "    \n",
    "    if result['ethnicity'][i] not in visited: \n",
    "        \n",
    "        visited.append(result['ethnicity'][i])\n",
    "          \n",
    "        cnt += 1\n",
    "  "
   ]
  },
  {
   "cell_type": "code",
   "execution_count": 102,
   "id": "572c4505",
   "metadata": {},
   "outputs": [
    {
     "data": {
      "text/plain": [
       "7"
      ]
     },
     "execution_count": 102,
     "metadata": {},
     "output_type": "execute_result"
    }
   ],
   "source": [
    "cnt"
   ]
  },
  {
   "cell_type": "code",
   "execution_count": 103,
   "id": "ac06bfb4",
   "metadata": {},
   "outputs": [
    {
     "data": {
      "text/plain": [
       "['White',\n",
       " 'Black or African American',\n",
       " 'Two or more races',\n",
       " 'Hispanic/Latino',\n",
       " 'American Indian or Alaska Nat',\n",
       " 'Asian',\n",
       " 'Native Hawaiian/Other Pacific']"
      ]
     },
     "execution_count": 103,
     "metadata": {},
     "output_type": "execute_result"
    }
   ],
   "source": [
    "visited"
   ]
  },
  {
   "cell_type": "code",
   "execution_count": null,
   "id": "00567a24",
   "metadata": {},
   "outputs": [],
   "source": []
  }
 ],
 "metadata": {
  "kernelspec": {
   "display_name": "Python 3 (ipykernel)",
   "language": "python",
   "name": "python3"
  },
  "language_info": {
   "codemirror_mode": {
    "name": "ipython",
    "version": 3
   },
   "file_extension": ".py",
   "mimetype": "text/x-python",
   "name": "python",
   "nbconvert_exporter": "python",
   "pygments_lexer": "ipython3",
   "version": "3.9.13"
  }
 },
 "nbformat": 4,
 "nbformat_minor": 5
}
